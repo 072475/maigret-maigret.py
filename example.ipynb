{
  "nbformat": 4,
  "nbformat_minor": 0,
  "metadata": {
    "colab": {
      "name": "maigret.ipynb",
      "provenance": [],
      "collapsed_sections": []
    },
    "kernelspec": {
      "name": "python3",
      "display_name": "Python 3"
    }
  },
  "cells": [
    {
      "cell_type": "code",
      "metadata": {
        "id": "8v6PEfyXb0Gx"
      },
      "source": [
        "# clone the repo\n",
        "!git clone https://github.com/soxoj/maigret\n",
        "!pip3 install -r /content/maigret/requirements.txt"
      ],
      "execution_count": null,
      "outputs": []
    },
    {
      "cell_type": "code",
      "metadata": {
        "id": "cXOQUAhDchkl"
      },
      "source": [
        "# help\n",
        "!python3 /content/maigret/maigret.py --help"
      ],
      "execution_count": null,
      "outputs": []
    },
    {
      "cell_type": "code",
      "metadata": {
        "id": "SjDmpN4QGnJu",
        "collapsed": true
      },
      "source": [
        "# search\n",
        "!python3 /content/maigret/maigret.py user"
      ],
      "execution_count": null,
      "outputs": []
    }
  ]
}